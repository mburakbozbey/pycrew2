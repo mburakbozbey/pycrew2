{
 "cells": [
  {
   "cell_type": "code",
   "execution_count": 1,
   "metadata": {
    "colab": {},
    "colab_type": "code",
    "id": "a_6g7erk2WyX",
    "scrolled": true
   },
   "outputs": [
    {
     "name": "stderr",
     "output_type": "stream",
     "text": [
      "Using TensorFlow backend.\n",
      "c:\\users\\mbura\\appdata\\local\\programs\\python\\python36\\lib\\site-packages\\tensorflow\\python\\framework\\dtypes.py:523: FutureWarning: Passing (type, 1) or '1type' as a synonym of type is deprecated; in a future version of numpy, it will be understood as (type, (1,)) / '(1,)type'.\n",
      "  _np_qint8 = np.dtype([(\"qint8\", np.int8, 1)])\n",
      "c:\\users\\mbura\\appdata\\local\\programs\\python\\python36\\lib\\site-packages\\tensorflow\\python\\framework\\dtypes.py:524: FutureWarning: Passing (type, 1) or '1type' as a synonym of type is deprecated; in a future version of numpy, it will be understood as (type, (1,)) / '(1,)type'.\n",
      "  _np_quint8 = np.dtype([(\"quint8\", np.uint8, 1)])\n",
      "c:\\users\\mbura\\appdata\\local\\programs\\python\\python36\\lib\\site-packages\\tensorflow\\python\\framework\\dtypes.py:525: FutureWarning: Passing (type, 1) or '1type' as a synonym of type is deprecated; in a future version of numpy, it will be understood as (type, (1,)) / '(1,)type'.\n",
      "  _np_qint16 = np.dtype([(\"qint16\", np.int16, 1)])\n",
      "c:\\users\\mbura\\appdata\\local\\programs\\python\\python36\\lib\\site-packages\\tensorflow\\python\\framework\\dtypes.py:526: FutureWarning: Passing (type, 1) or '1type' as a synonym of type is deprecated; in a future version of numpy, it will be understood as (type, (1,)) / '(1,)type'.\n",
      "  _np_quint16 = np.dtype([(\"quint16\", np.uint16, 1)])\n",
      "c:\\users\\mbura\\appdata\\local\\programs\\python\\python36\\lib\\site-packages\\tensorflow\\python\\framework\\dtypes.py:527: FutureWarning: Passing (type, 1) or '1type' as a synonym of type is deprecated; in a future version of numpy, it will be understood as (type, (1,)) / '(1,)type'.\n",
      "  _np_qint32 = np.dtype([(\"qint32\", np.int32, 1)])\n",
      "c:\\users\\mbura\\appdata\\local\\programs\\python\\python36\\lib\\site-packages\\tensorflow\\python\\framework\\dtypes.py:532: FutureWarning: Passing (type, 1) or '1type' as a synonym of type is deprecated; in a future version of numpy, it will be understood as (type, (1,)) / '(1,)type'.\n",
      "  np_resource = np.dtype([(\"resource\", np.ubyte, 1)])\n"
     ]
    }
   ],
   "source": [
    "import json\n",
    "import os\n",
    "import cv2\n",
    "import keras\n",
    "\n",
    "import tensorflow as tf\n",
    "import pandas as pd\n",
    "import numpy as np\n",
    "\n",
    "from PIL import Image\n",
    "from glob import glob\n",
    "from keras import backend as K\n",
    "\n",
    "from keras.applications.densenet import DenseNet121, preprocess_input\n",
    "#from keras.applications.mobilenetv2 import MobileNetV2, preprocess_input\n",
    "from keras.preprocessing.image import ImageDataGenerator\n",
    "from keras.models import Sequential, Model\n",
    "from keras.optimizers import SGD, rmsprop, Adam\n",
    "from keras.callbacks import EarlyStopping, ModelCheckpoint, ReduceLROnPlateau, TensorBoard\n",
    "from keras.metrics import (categorical_accuracy, categorical_crossentropy,\n",
    "                           top_k_categorical_accuracy)\n",
    "from keras.layers import (Dense,Input, Conv2D, MaxPooling2D, \n",
    "                          Activation, Flatten, Dropout, Cropping2D, \n",
    "                          Lambda, GlobalAveragePooling2D, BatchNormalization, \n",
    "                          AveragePooling2D,Convolution2D)\n",
    "            \n",
    "from sklearn.model_selection import train_test_split\n",
    "from sklearn.metrics import classification_report, hamming_loss\n",
    "from sklearn.utils.class_weight import compute_class_weight\n",
    "\n",
    "import imutils\n",
    "import matplotlib.pyplot as plt\n",
    "\n",
    "%matplotlib inline"
   ]
  },
  {
   "cell_type": "code",
   "execution_count": 2,
   "metadata": {},
   "outputs": [
    {
     "data": {
      "text/plain": [
       "('1.10.0', '2.2.4')"
      ]
     },
     "execution_count": 2,
     "metadata": {},
     "output_type": "execute_result"
    }
   ],
   "source": [
    "tf.__version__, keras.__version__"
   ]
  },
  {
   "cell_type": "code",
   "execution_count": 3,
   "metadata": {
    "colab": {},
    "colab_type": "code",
    "id": "306cttvb2QOY",
    "scrolled": true
   },
   "outputs": [],
   "source": [
    "train_files = \"C:/Users/mbura/Desktop/pycrewDataset/train/*\"\n",
    "train_path = \"C:/Users/mbura/Desktop/pycrewDataset/train/\""
   ]
  },
  {
   "cell_type": "code",
   "execution_count": 4,
   "metadata": {},
   "outputs": [],
   "source": [
    "labels = [paths.split(\"\\\\\")[-1] for paths in glob(train_files + \"*\")]"
   ]
  },
  {
   "cell_type": "markdown",
   "metadata": {},
   "source": [
    "### Get class weight"
   ]
  },
  {
   "cell_type": "code",
   "execution_count": 5,
   "metadata": {},
   "outputs": [
    {
     "data": {
      "text/plain": [
       "array(['a', 'd', 'nk', 's', 'sa', 'sd', 'w', 'wa', 'wd'], dtype='<U2')"
      ]
     },
     "execution_count": 5,
     "metadata": {},
     "output_type": "execute_result"
    }
   ],
   "source": [
    "y = []\n",
    "\n",
    "for label_path in glob(train_files):\n",
    "    for pic in glob(label_path + \"/*\" ):\n",
    "        label = pic.split(\"\\\\\")[1]\n",
    "        y.append(label)\n",
    "    \n",
    "#         img = cv2.imread(pic)\n",
    "#         img = cv2.cvtColor(img, cv2.COLOR_BGR2RGB)\n",
    "#         X.append(img)\n",
    "np.unique(y)"
   ]
  },
  {
   "cell_type": "code",
   "execution_count": 6,
   "metadata": {},
   "outputs": [
    {
     "data": {
      "text/plain": [
       "array([ 3.74539972,  3.43844263,  1.21969864,  5.17634459, 20.65470085,\n",
       "       19.5087333 ,  0.19274989,  0.93091976,  0.93706289])"
      ]
     },
     "execution_count": 6,
     "metadata": {},
     "output_type": "execute_result"
    }
   ],
   "source": [
    "class_weights = compute_class_weight('balanced', np.unique(y), y)\n",
    "class_weights"
   ]
  },
  {
   "cell_type": "markdown",
   "metadata": {
    "colab_type": "text",
    "id": "qkb8JoJOZfN4"
   },
   "source": [
    "## **Best Model: DenseNet121**"
   ]
  },
  {
   "cell_type": "code",
   "execution_count": 7,
   "metadata": {},
   "outputs": [],
   "source": [
    "BS = 16\n",
    "SIZE = 224\n",
    "TEST_SIZE = 0.2"
   ]
  },
  {
   "cell_type": "code",
   "execution_count": 8,
   "metadata": {},
   "outputs": [],
   "source": [
    "K.set_image_dim_ordering('tf')\n",
    "\n",
    "def atan_layer(x):\n",
    "    print(x, tf.mul(tf.atan(x), 2))\n",
    "    return tf.mul(tf.atan(x), 2)\n",
    "\n",
    "def atan_layer_shape(input_shape):\n",
    "    return input_shape\n",
    "\n",
    "def atan(x):\n",
    "    return tf.atan(x)\n",
    "\n",
    "def NVIDIA():\n",
    "    \n",
    "    \"\"\"\n",
    "            https://github.com/hdmetor/Nvidia-SelfDriving\n",
    "    \"\"\"\n",
    "    \n",
    "    inputs = Input(shape=(224, 224, 3))\n",
    "    conv_1 = Convolution2D(24, 5, 5, activation='relu', name='conv_1', subsample=(2, 2))(inputs)\n",
    "    conv_2 = Convolution2D(36, 5, 5, activation='relu', name='conv_2', subsample=(2, 2))(conv_1)\n",
    "    conv_3 = Convolution2D(48, 5, 5, activation='relu', name='conv_3', subsample=(2, 2))(conv_2)\n",
    "    conv_3 = Dropout(.5)(conv_3)\n",
    "\n",
    "    conv_4 = Convolution2D(64, 3, 3, activation='relu', name='conv_4', subsample=(1, 1))(conv_3)\n",
    "    conv_5 = Convolution2D(64, 3, 3, activation='relu', name='conv_5', subsample=(1, 1))(conv_4)\n",
    "\n",
    "    flat = Flatten()(conv_5)\n",
    "\n",
    "    dense_1 = Dense(1164)(flat)\n",
    "    dense_1 = Dropout(.1)(flat)\n",
    "    dense_2 = Dense(100, activation='relu')(dense_1)\n",
    "    dense_2 = Dropout(.1)(flat)\n",
    "    dense_3 = Dense(50, activation='relu')(dense_2)\n",
    "    dense_3 = Dropout(.1)(flat)\n",
    "    dense_4 = Dense(10, activation='relu')(dense_3)\n",
    "    dense_4 = Dropout(.1)(flat)\n",
    "\n",
    "    final = Dense(9, activation='softmax')(dense_4)\n",
    "    \n",
    "    model = Model(input=inputs, output=final)\n",
    "    model.compile(optimizer=SGD(lr=1e-3, momentum=.9), loss=\"categorical_crossentropy\", metrics=['accuracy'])\n",
    "    \n",
    "    return model"
   ]
  },
  {
   "cell_type": "code",
   "execution_count": 9,
   "metadata": {
    "scrolled": true
   },
   "outputs": [],
   "source": [
    "# model = NVIDIA()"
   ]
  },
  {
   "cell_type": "code",
   "execution_count": 10,
   "metadata": {},
   "outputs": [],
   "source": [
    "log_dir = \"./logs/densenet2/\""
   ]
  },
  {
   "cell_type": "code",
   "execution_count": 11,
   "metadata": {},
   "outputs": [
    {
     "name": "stderr",
     "output_type": "stream",
     "text": [
      "c:\\users\\mbura\\appdata\\local\\programs\\python\\python36\\lib\\site-packages\\keras\\callbacks.py:1086: RuntimeWarning: Learning Rate Plateau Reducing mode <built-in function min> is unknown, fallback to auto mode.\n",
      "  RuntimeWarning)\n"
     ]
    }
   ],
   "source": [
    "callbacks = [EarlyStopping(patience = 4, verbose=1),\n",
    "            ReduceLROnPlateau(monitor='val_loss', factor=0.2, patience = 3, min_lr=0.000001, verbose=1, mode=min),\n",
    "            ModelCheckpoint(log_dir + \"ep{epoch:03d}-loss{loss:.3f}-val_loss{val_loss:.3f}.h5\", monitor='val_loss', save_weights_only=True, save_best_only=True),\n",
    "            TensorBoard(log_dir=log_dir)]"
   ]
  },
  {
   "cell_type": "code",
   "execution_count": 13,
   "metadata": {},
   "outputs": [],
   "source": [
    "# model.fit(X_train, y_train, batch_size=128, nb_epoch=100, verbose=1, callbacks=callbacks, validation_data=(X_test,y_test), shuffle=True, show_accuracy=True, class_weight=class_weights)\n"
   ]
  },
  {
   "cell_type": "code",
   "execution_count": 12,
   "metadata": {
    "colab": {
     "base_uri": "https://localhost:8080/",
     "height": 92
    },
    "colab_type": "code",
    "id": "ROabyNTPZiID",
    "outputId": "2c821edf-4474-4377-a041-b48d525b426b"
   },
   "outputs": [],
   "source": [
    "base_model = DenseNet121(include_top=False, weights='imagenet',\n",
    "                         input_shape=(SIZE, SIZE, 3), classes=9)\n",
    "x = base_model.output\n",
    "x = GlobalAveragePooling2D()(x)\n",
    "x = Dense(1024, activation='relu')(x)\n",
    "\n",
    "predictions = Dense(9, activation='softmax')(x)\n",
    "model = Model(inputs=base_model.input, outputs=predictions)\n",
    "\n",
    "\n",
    "for layer in model.layers:  \n",
    "    layer.trainable = True\n",
    "\n",
    "model.compile(optimizer=Adam(lr=1e-3, decay=1e-9), loss=\"categorical_crossentropy\", metrics=['accuracy'])\n"
   ]
  },
  {
   "cell_type": "code",
   "execution_count": 13,
   "metadata": {
    "colab": {
     "base_uri": "https://localhost:8080/",
     "height": 2092
    },
    "colab_type": "code",
    "id": "Q5u0E3N4bQMC",
    "outputId": "692a795e-7b33-4bff-eda3-270b093a0969"
   },
   "outputs": [
    {
     "name": "stdout",
     "output_type": "stream",
     "text": [
      "Found 106334 images belonging to 9 classes.\n",
      "Found 26579 images belonging to 9 classes.\n",
      "Epoch 1/30\n",
      "6645/6645 [==============================] - 2653s 399ms/step - loss: 0.9327 - acc: 0.6554 - val_loss: 0.9114 - val_acc: 0.6727\n",
      "Epoch 2/30\n",
      "6645/6645 [==============================] - 2564s 386ms/step - loss: 0.8155 - acc: 0.6849 - val_loss: 0.8274 - val_acc: 0.6847\n",
      "Epoch 3/30\n",
      "6645/6645 [==============================] - 2566s 386ms/step - loss: 0.7800 - acc: 0.6955 - val_loss: 0.8119 - val_acc: 0.6847\n",
      "Epoch 4/30\n",
      "6645/6645 [==============================] - 2542s 383ms/step - loss: 0.7567 - acc: 0.7028 - val_loss: 0.9138 - val_acc: 0.6495\n",
      "Epoch 5/30\n",
      "6645/6645 [==============================] - 2542s 383ms/step - loss: 0.7400 - acc: 0.7076 - val_loss: 0.8065 - val_acc: 0.6907\n",
      "Epoch 6/30\n",
      "6645/6645 [==============================] - 2552s 384ms/step - loss: 0.7234 - acc: 0.7136 - val_loss: 0.7857 - val_acc: 0.7000\n",
      "Epoch 7/30\n",
      "6645/6645 [==============================] - 2542s 383ms/step - loss: 0.7087 - acc: 0.7179 - val_loss: 0.7932 - val_acc: 0.6987\n",
      "Epoch 8/30\n",
      "6645/6645 [==============================] - 2540s 382ms/step - loss: 0.6961 - acc: 0.7222 - val_loss: 0.7723 - val_acc: 0.7041\n",
      "Epoch 9/30\n",
      "6645/6645 [==============================] - 2543s 383ms/step - loss: 0.6840 - acc: 0.7266 - val_loss: 0.7816 - val_acc: 0.7035\n",
      "Epoch 10/30\n",
      "6645/6645 [==============================] - 2553s 384ms/step - loss: 0.6697 - acc: 0.7299 - val_loss: 0.7918 - val_acc: 0.7021\n",
      "Epoch 11/30\n",
      "6645/6645 [==============================] - 2543s 383ms/step - loss: 0.6575 - acc: 0.7345 - val_loss: 0.7857 - val_acc: 0.7053\n",
      "\n",
      "Epoch 00011: ReduceLROnPlateau reducing learning rate to 0.00020000000949949026.\n",
      "Epoch 12/30\n",
      "6645/6645 [==============================] - 2542s 383ms/step - loss: 0.5859 - acc: 0.7596 - val_loss: 0.8078 - val_acc: 0.7053\n",
      "Epoch 00012: early stopping\n"
     ]
    }
   ],
   "source": [
    "train_datagen = ImageDataGenerator(preprocessing_function = preprocess_input,\n",
    "                                  validation_split=TEST_SIZE)\n",
    "\n",
    "\n",
    "train_generator = train_datagen.flow_from_directory(\n",
    "        train_path,\n",
    "        target_size=(SIZE, SIZE),\n",
    "        batch_size=BS,\n",
    "        subset='training',\n",
    "        class_mode='categorical')\n",
    "\n",
    "validation_generator = train_datagen.flow_from_directory(\n",
    "        train_path,\n",
    "        target_size = (SIZE, SIZE),\n",
    "        batch_size = BS,\n",
    "        subset='validation',\n",
    "        class_mode='categorical')\n",
    "\n",
    "\n",
    "H = model.fit_generator(train_generator,\n",
    "                        class_weight = class_weights,\n",
    "                        shuffle=True,\n",
    "                        workers = 8,\n",
    "                        validation_data = validation_generator, \n",
    "                        validation_steps = validation_generator.samples  // BS,\n",
    "                        callbacks = callbacks, \n",
    "                        steps_per_epoch = train_generator.samples // BS,\n",
    "                        epochs = 30)"
   ]
  },
  {
   "cell_type": "code",
   "execution_count": 14,
   "metadata": {
    "colab": {},
    "colab_type": "code",
    "id": "EbxCz2MVZ75v"
   },
   "outputs": [
    {
     "data": {
      "text/plain": [
       "<matplotlib.legend.Legend at 0x2b624021710>"
      ]
     },
     "execution_count": 14,
     "metadata": {},
     "output_type": "execute_result"
    },
    {
     "data": {
      "image/png": "[encoded data removed]",
      "text/plain": [
       "<Figure size 576x576 with 1 Axes>"
      ]
     },
     "metadata": {
      "needs_background": "light"
     },
     "output_type": "display_data"
    }
   ],
   "source": [
    "import matplotlib.pyplot as plt\n",
    "\n",
    "plt.figure(figsize=(8, 8))\n",
    "plt.title(\"Learning curve\")\n",
    "plt.plot(H.history[\"loss\"], label=\"loss\")\n",
    "plt.plot(H.history[\"val_loss\"], label=\"val_loss\")\n",
    "plt.plot( np.argmin(H.history[\"val_loss\"]), np.min(H.history[\"val_loss\"]), marker=\"x\", color=\"r\", label=\"best model\")\n",
    "plt.xlabel(\"Epochs\")\n",
    "plt.ylabel(\"CE Loss\")\n",
    "plt.legend()"
   ]
  },
  {
   "cell_type": "code",
   "execution_count": 91,
   "metadata": {},
   "outputs": [],
   "source": [
    "# with open('densenetv2.json','r') as f:\n",
    "#     model_json = json.load(f)\n",
    "\n",
    "# model = model_from_json(model_json)\n",
    "# model.load_weights(r\"./logs/nvidia/ep001-loss1.410-val_loss1.461.h5\")"
   ]
  },
  {
   "cell_type": "code",
   "execution_count": 34,
   "metadata": {},
   "outputs": [],
   "source": [
    "model.load_weights(\"logs/densenet2/ep008-loss0.696-val_loss0.772.h5\")"
   ]
  },
  {
   "cell_type": "code",
   "execution_count": 35,
   "metadata": {
    "scrolled": true
   },
   "outputs": [
    {
     "data": {
      "text/plain": [
       "26579"
      ]
     },
     "execution_count": 35,
     "metadata": {},
     "output_type": "execute_result"
    }
   ],
   "source": [
    "filenames = validation_generator.filenames\n",
    "nb_samples = len(filenames)\n",
    "nb_samples"
   ]
  },
  {
   "cell_type": "code",
   "execution_count": 36,
   "metadata": {},
   "outputs": [
    {
     "data": {
      "text/plain": [
       "{0: 'a', 1: 'd', 2: 'nk', 3: 's', 4: 'sa', 5: 'sd', 6: 'w', 7: 'wa', 8: 'wd'}"
      ]
     },
     "execution_count": 36,
     "metadata": {},
     "output_type": "execute_result"
    }
   ],
   "source": [
    "inv_map = {v: k for k, v in validation_generator.class_indices.items()} \n",
    "inv_map"
   ]
  },
  {
   "cell_type": "code",
   "execution_count": 37,
   "metadata": {},
   "outputs": [
    {
     "name": "stdout",
     "output_type": "stream",
     "text": [
      "Found 26579 images belonging to 9 classes.\n"
     ]
    }
   ],
   "source": [
    "test_generator = ImageDataGenerator(preprocessing_function = preprocess_input,\n",
    "                                    validation_split=TEST_SIZE).flow_from_directory(train_path,\n",
    "                                                                                    shuffle=False,\n",
    "                                                                                    target_size = (SIZE, SIZE),\n",
    "                                                                                    batch_size = BS,\n",
    "                                                                                    subset='validation',\n",
    "                                                                                    class_mode='categorical')"
   ]
  },
  {
   "cell_type": "code",
   "execution_count": 38,
   "metadata": {},
   "outputs": [
    {
     "name": "stdout",
     "output_type": "stream",
     "text": [
      "1661/1661 [==============================] - 171s 103ms/step\n"
     ]
    }
   ],
   "source": [
    "predict = model.predict_generator(test_generator, steps = nb_samples//BS, verbose = 1)"
   ]
  },
  {
   "cell_type": "code",
   "execution_count": 39,
   "metadata": {},
   "outputs": [],
   "source": [
    "y_pred = np.rint(predict)\n",
    "y_true = validation_generator.classes[:len(y_pred)]"
   ]
  },
  {
   "cell_type": "code",
   "execution_count": 40,
   "metadata": {},
   "outputs": [],
   "source": [
    "y_pred_labels = [inv_map[np.argmax(pred_, axis = -1)] for pred_ in y_pred]\n",
    "y_true_labels = [inv_map[pred_] for pred_ in y_true]"
   ]
  },
  {
   "cell_type": "code",
   "execution_count": 41,
   "metadata": {},
   "outputs": [
    {
     "name": "stdout",
     "output_type": "stream",
     "text": [
      "              precision    recall  f1-score   support\n",
      "\n",
      "           a       0.19      0.70      0.30       788\n",
      "           d       0.65      0.26      0.37       859\n",
      "          nk       0.58      0.62      0.60      2421\n",
      "           s       0.54      0.20      0.30       570\n",
      "          sa       0.54      0.05      0.09       143\n",
      "          sd       0.46      0.04      0.07       151\n",
      "           w       0.78      0.87      0.82     15323\n",
      "          wa       0.63      0.41      0.49      3172\n",
      "          wd       0.68      0.33      0.44      3149\n",
      "\n",
      "    accuracy                           0.68     26576\n",
      "   macro avg       0.56      0.39      0.39     26576\n",
      "weighted avg       0.70      0.68      0.67     26576\n",
      "\n"
     ]
    }
   ],
   "source": [
    "print(classification_report(y_true_labels, y_pred_labels))"
   ]
  },
  {
   "cell_type": "code",
   "execution_count": 76,
   "metadata": {
    "colab": {},
    "colab_type": "code",
    "id": "6ZN9VNvVoAwo"
   },
   "outputs": [],
   "source": [
    "# ## Save weights & model structure:\n",
    "\n",
    "# model.save_weights('densenet_yenidata.h5')"
   ]
  },
  {
   "cell_type": "code",
   "execution_count": 15,
   "metadata": {
    "colab": {},
    "colab_type": "code",
    "id": "6ZN9VNvVoAwo"
   },
   "outputs": [],
   "source": [
    "model_json = model.to_json()\n",
    "with open(\"densenetv2.json\", \"w\") as json_file:\n",
    "    json.dump(model_json, json_file)"
   ]
  },
  {
   "cell_type": "code",
   "execution_count": 89,
   "metadata": {
    "colab": {},
    "colab_type": "code",
    "id": "hYmWND97oBXo"
   },
   "outputs": [],
   "source": [
    "# from keras.models import load_model\n",
    "from keras.models import model_from_json\n",
    "# import json\n",
    "\n",
    "# ## Reload weights & model structure:\n",
    "\n",
    "# with open('model_in_json.json','r') as f:\n",
    "#     model_json = json.load(f)\n",
    "\n",
    "# model = model_from_json(model_json)\n",
    "# model.load_weights('model.h5')\n"
   ]
  },
  {
   "cell_type": "code",
   "execution_count": 93,
   "metadata": {},
   "outputs": [
    {
     "data": {
      "text/plain": [
       "'\" trainv1      \\n                precision    recall  f1-score   support\\n        \\n           a       0.24      0.71      0.36       271\\n           d       0.42      0.55      0.47       290\\n          nk       0.53      0.41      0.46       813\\n           s       0.56      0.17      0.26       193\\n          sa       0.50      0.33      0.40        52\\n          sd       0.22      0.25      0.23        53\\n           w       0.79      0.65      0.71      4940\\n          wa       0.41      0.63      0.49      1038\\n          wd       0.46      0.48      0.47      1022\\n\\n    accuracy                           0.59      8672\\n   macro avg       0.46      0.46      0.43      8672\\nweighted avg       0.64      0.59      0.60      8672'"
      ]
     },
     "execution_count": 93,
     "metadata": {},
     "output_type": "execute_result"
    }
   ],
   "source": [
    "\"\"\"\" trainv1 : MobileNetV2 - 16 Epoch \n",
    "                precision    recall  f1-score   support\n",
    "        \n",
    "           a       0.24      0.71      0.36       271\n",
    "           d       0.42      0.55      0.47       290\n",
    "          nk       0.53      0.41      0.46       813\n",
    "           s       0.56      0.17      0.26       193\n",
    "          sa       0.50      0.33      0.40        52\n",
    "          sd       0.22      0.25      0.23        53\n",
    "           w       0.79      0.65      0.71      4940\n",
    "          wa       0.41      0.63      0.49      1038\n",
    "          wd       0.46      0.48      0.47      1022\n",
    "\n",
    "    accuracy                           0.59      8672\n",
    "   macro avg       0.46      0.46      0.43      8672\n",
    "weighted avg       0.64      0.59      0.60      8672\"\"\"\n",
    "\n",
    "\n",
    "\"\"\"\"  DenseNet121: 3 Epoch\n",
    "\n",
    "                precision    recall  f1-score   support\n",
    "\n",
    "           a       0.20      0.86      0.33       543\n",
    "           d       0.68      0.29      0.41       580\n",
    "          nk       0.62      0.33      0.43      1627\n",
    "           s       0.00      0.00      0.00       387\n",
    "          sa       0.00      0.00      0.00       104\n",
    "          sd       0.00      0.00      0.00       106\n",
    "           w       0.94      0.81      0.87      5325\n",
    "          wa       0.00      0.00      0.00         0\n",
    "          wd       0.00      0.00      0.00         0\n",
    "\n",
    "    accuracy                           0.63      8672\n",
    "   macro avg       0.27      0.25      0.23      8672\n",
    "weighted avg       0.75      0.63      0.66      8672\"\"\"\"\n",
    "\n",
    "\"\"\" DenseNet121: 12 Epoch - Last epoch weights\n",
    "\n",
    "precision    recall  f1-score   support\n",
    "\n",
    "           a       0.27      0.60      0.37       788\n",
    "           d       0.59      0.39      0.47       859\n",
    "          nk       0.59      0.55      0.57      2421\n",
    "           s       0.45      0.46      0.46       570\n",
    "          sa       0.54      0.24      0.34       143\n",
    "          sd       0.55      0.17      0.26       151\n",
    "           w       0.78      0.87      0.82     15323\n",
    "          wa       0.61      0.43      0.50      3172\n",
    "          wd       0.63      0.40      0.49      3149\n",
    "\n",
    "    accuracy                           0.69     26576\n",
    "   macro avg       0.56      0.46      0.48     26576\n",
    "weighted avg       0.70      0.69      0.68     26576\"\"\"\n",
    "\n",
    "\"\"\"DenseNet121: 12 Epoch - Best\n",
    "              precision    recall  f1-score   support\n",
    "\n",
    "           a       0.19      0.70      0.30       788\n",
    "           d       0.65      0.26      0.37       859\n",
    "          nk       0.58      0.62      0.60      2421\n",
    "           s       0.54      0.20      0.30       570\n",
    "          sa       0.54      0.05      0.09       143\n",
    "          sd       0.46      0.04      0.07       151\n",
    "           w       0.78      0.87      0.82     15323\n",
    "          wa       0.63      0.41      0.49      3172\n",
    "          wd       0.68      0.33      0.44      3149\n",
    "\n",
    "    accuracy                           0.68     26576\n",
    "   macro avg       0.56      0.39      0.39     26576\n",
    "weighted avg       0.70      0.68      0.67     26576\"\"\""
   ]
  }
 ],
 "metadata": {
  "accelerator": "TPU",
  "colab": {
   "collapsed_sections": [],
   "name": "Vintelligence'd.ipynb",
   "provenance": [],
   "version": "0.3.2"
  },
  "kernelspec": {
   "display_name": "Python 3",
   "language": "python",
   "name": "python3"
  },
  "language_info": {
   "codemirror_mode": {
    "name": "ipython",
    "version": 3
   },
   "file_extension": ".py",
   "mimetype": "text/x-python",
   "name": "python",
   "nbconvert_exporter": "python",
   "pygments_lexer": "ipython3",
   "version": "3.6.7"
  }
 },
 "nbformat": 4,
 "nbformat_minor": 2
}
