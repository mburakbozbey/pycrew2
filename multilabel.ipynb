{
 "cells": [
  {
   "cell_type": "code",
   "execution_count": 1,
   "metadata": {},
   "outputs": [],
   "source": [
    "import os\n",
    "\n",
    "import pandas as pd\n",
    "import matplotlib.pyplot as plt\n",
    "import numpy as np\n",
    "\n",
    "from glob import glob\n",
    "\n",
    "%matplotlib inline"
   ]
  },
  {
   "cell_type": "code",
   "execution_count": 2,
   "metadata": {},
   "outputs": [],
   "source": [
    "paths = ['C:/Users/mbura/Desktop/pycrewDataset/train/w',\n",
    "         'C:/Users/mbura/Desktop/pycrewDataset/train/s',\n",
    "         'C:/Users/mbura/Desktop/pycrewDataset/train/a',\n",
    "         'C:/Users/mbura/Desktop/pycrewDataset/train/d',\n",
    "         'C:/Users/mbura/Desktop/pycrewDataset/train/wa',\n",
    "         'C:/Users/mbura/Desktop/pycrewDataset/train/wd',\n",
    "         'C:/Users/mbura/Desktop/pycrewDataset/train/sa',\n",
    "         'C:/Users/mbura/Desktop/pycrewDataset/train/sd',\n",
    "         'C:/Users/mbura/Desktop/pycrewDataset/train/nk']"
   ]
  },
  {
   "cell_type": "code",
   "execution_count": 3,
   "metadata": {},
   "outputs": [],
   "source": [
    "map_labels = {  \"w\"  : [1,0,0,0],\n",
    "                \"s\"  : [0,1,0,0],\n",
    "                \"a\"  : [0,0,1,0],\n",
    "                \"d\"  : [0,0,0,1],\n",
    "                \"wa\" : [1,0,1,0],\n",
    "                \"wd\" : [1,0,0,1],\n",
    "                \"sa\" : [0,1,1,0],\n",
    "                \"sd\" : [0,1,0,1],\n",
    "                \"nk\" : [0,1,0,0]}  ## i mapped nokey to brake key"
   ]
  },
  {
   "cell_type": "code",
   "execution_count": 4,
   "metadata": {},
   "outputs": [
    {
     "name": "stdout",
     "output_type": "stream",
     "text": [
      "C:/Users/mbura/Desktop/pycrewDataset/train/w/*\n",
      "C:/Users/mbura/Desktop/pycrewDataset/train/s/*\n",
      "C:/Users/mbura/Desktop/pycrewDataset/train/a/*\n",
      "C:/Users/mbura/Desktop/pycrewDataset/train/d/*\n",
      "C:/Users/mbura/Desktop/pycrewDataset/train/wa/*\n",
      "C:/Users/mbura/Desktop/pycrewDataset/train/wd/*\n",
      "C:/Users/mbura/Desktop/pycrewDataset/train/sa/*\n",
      "C:/Users/mbura/Desktop/pycrewDataset/train/sd/*\n",
      "C:/Users/mbura/Desktop/pycrewDataset/train/nk/*\n"
     ]
    }
   ],
   "source": [
    "img_paths = []\n",
    "classes = []\n",
    "for path in paths:\n",
    "    cdir = path + \"/\" + \"*\"\n",
    "    class_name = path.split(\"/\")[-1]\n",
    "    print(cdir)\n",
    "    for files in glob(cdir):\n",
    "        img_paths.append(files.replace(\"\\\\\", \"/\"))\n",
    "        classes.append(class_name)"
   ]
  },
  {
   "cell_type": "code",
   "execution_count": 5,
   "metadata": {},
   "outputs": [
    {
     "data": {
      "text/plain": [
       "(132913, 132913)"
      ]
     },
     "execution_count": 5,
     "metadata": {},
     "output_type": "execute_result"
    }
   ],
   "source": [
    "len(img_paths), len(classes)"
   ]
  },
  {
   "cell_type": "code",
   "execution_count": 6,
   "metadata": {},
   "outputs": [],
   "source": [
    "df = pd.DataFrame(img_paths, columns = [\"filename\"])"
   ]
  },
  {
   "cell_type": "code",
   "execution_count": 7,
   "metadata": {},
   "outputs": [
    {
     "data": {
      "text/plain": [
       "(132913, 1)"
      ]
     },
     "execution_count": 7,
     "metadata": {},
     "output_type": "execute_result"
    }
   ],
   "source": [
    "df.shape"
   ]
  },
  {
   "cell_type": "code",
   "execution_count": 8,
   "metadata": {},
   "outputs": [
    {
     "data": {
      "text/html": [
       "<div>\n",
       "<style scoped>\n",
       "    .dataframe tbody tr th:only-of-type {\n",
       "        vertical-align: middle;\n",
       "    }\n",
       "\n",
       "    .dataframe tbody tr th {\n",
       "        vertical-align: top;\n",
       "    }\n",
       "\n",
       "    .dataframe thead th {\n",
       "        text-align: right;\n",
       "    }\n",
       "</style>\n",
       "<table border=\"1\" class=\"dataframe\">\n",
       "  <thead>\n",
       "    <tr style=\"text-align: right;\">\n",
       "      <th></th>\n",
       "      <th>filename</th>\n",
       "    </tr>\n",
       "  </thead>\n",
       "  <tbody>\n",
       "    <tr>\n",
       "      <th>0</th>\n",
       "      <td>C:/Users/mbura/Desktop/pycrewDataset/train/w/1...</td>\n",
       "    </tr>\n",
       "    <tr>\n",
       "      <th>1</th>\n",
       "      <td>C:/Users/mbura/Desktop/pycrewDataset/train/w/1...</td>\n",
       "    </tr>\n",
       "    <tr>\n",
       "      <th>2</th>\n",
       "      <td>C:/Users/mbura/Desktop/pycrewDataset/train/w/1...</td>\n",
       "    </tr>\n",
       "    <tr>\n",
       "      <th>3</th>\n",
       "      <td>C:/Users/mbura/Desktop/pycrewDataset/train/w/1...</td>\n",
       "    </tr>\n",
       "    <tr>\n",
       "      <th>4</th>\n",
       "      <td>C:/Users/mbura/Desktop/pycrewDataset/train/w/1...</td>\n",
       "    </tr>\n",
       "  </tbody>\n",
       "</table>\n",
       "</div>"
      ],
      "text/plain": [
       "                                            filename\n",
       "0  C:/Users/mbura/Desktop/pycrewDataset/train/w/1...\n",
       "1  C:/Users/mbura/Desktop/pycrewDataset/train/w/1...\n",
       "2  C:/Users/mbura/Desktop/pycrewDataset/train/w/1...\n",
       "3  C:/Users/mbura/Desktop/pycrewDataset/train/w/1...\n",
       "4  C:/Users/mbura/Desktop/pycrewDataset/train/w/1..."
      ]
     },
     "execution_count": 8,
     "metadata": {},
     "output_type": "execute_result"
    }
   ],
   "source": [
    "df.head()"
   ]
  },
  {
   "cell_type": "code",
   "execution_count": 9,
   "metadata": {},
   "outputs": [],
   "source": [
    "df[\"label\"] = df.filename.apply(lambda x: x.split(\"/\")[-2])\n",
    "df[\"name\"] = df.filename.apply(lambda x: map_labels[x.split(\"/\")[-2]])"
   ]
  },
  {
   "cell_type": "code",
   "execution_count": 10,
   "metadata": {},
   "outputs": [],
   "source": [
    "for idx, label in enumerate([\"w\", \"s\", \"a\", \"d\"]):\n",
    "    df[label] = df.name.apply(lambda x: x[idx])"
   ]
  },
  {
   "cell_type": "code",
   "execution_count": 11,
   "metadata": {},
   "outputs": [],
   "source": [
    "labels = [path.split(\"/\")[-1] for path in paths]"
   ]
  },
  {
   "cell_type": "code",
   "execution_count": 12,
   "metadata": {},
   "outputs": [],
   "source": [
    "df.set_index(\"filename\", inplace = True)"
   ]
  },
  {
   "cell_type": "code",
   "execution_count": 13,
   "metadata": {},
   "outputs": [
    {
     "data": {
      "text/plain": [
       "Text(0, 0.5, 'Frequency')"
      ]
     },
     "execution_count": 13,
     "metadata": {},
     "output_type": "execute_result"
    },
    {
     "data": {
      "image/png": "[encoded data removed]",
      "text/plain": [
       "<Figure size 432x288 with 1 Axes>"
      ]
     },
     "metadata": {
      "needs_background": "light"
     },
     "output_type": "display_data"
    }
   ],
   "source": [
    "plt.bar([\"w\", \"s\", \"a\", \"d\"], df[df.columns[-4:]].sum().values)\n",
    "plt.title('Multilabel Frequency')\n",
    "plt.xlabel('Class')\n",
    "plt.ylabel('Frequency')"
   ]
  },
  {
   "cell_type": "code",
   "execution_count": 14,
   "metadata": {},
   "outputs": [
    {
     "data": {
      "image/png": "[encoded data removed]",
      "text/plain": [
       "<Figure size 432x288 with 1 Axes>"
      ]
     },
     "metadata": {
      "needs_background": "light"
     },
     "output_type": "display_data"
    }
   ],
   "source": [
    "unique, counts = np.unique(sorted(df.label), return_counts=True)\n",
    "plt.bar(unique, counts)\n",
    "\n",
    "plt.title('Multiclass Frequency')\n",
    "plt.xlabel('Class')\n",
    "plt.ylabel('Frequency')\n",
    "\n",
    "plt.show()"
   ]
  },
  {
   "cell_type": "code",
   "execution_count": 15,
   "metadata": {},
   "outputs": [],
   "source": [
    "del df[\"label\"], df[\"name\"]"
   ]
  },
  {
   "cell_type": "code",
   "execution_count": 16,
   "metadata": {},
   "outputs": [
    {
     "data": {
      "text/plain": [
       "(132913, 4)"
      ]
     },
     "execution_count": 16,
     "metadata": {},
     "output_type": "execute_result"
    }
   ],
   "source": [
    "df.shape"
   ]
  },
  {
   "cell_type": "code",
   "execution_count": 17,
   "metadata": {},
   "outputs": [],
   "source": [
    "df.to_csv(\"train.csv\")"
   ]
  }
 ],
 "metadata": {
  "kernelspec": {
   "display_name": "Python 3",
   "language": "python",
   "name": "python3"
  },
  "language_info": {
   "codemirror_mode": {
    "name": "ipython",
    "version": 3
   },
   "file_extension": ".py",
   "mimetype": "text/x-python",
   "name": "python",
   "nbconvert_exporter": "python",
   "pygments_lexer": "ipython3",
   "version": "3.6.7"
  }
 },
 "nbformat": 4,
 "nbformat_minor": 2
}
