{
 "cells": [
  {
   "cell_type": "code",
   "execution_count": 1,
   "metadata": {
    "colab": {},
    "colab_type": "code",
    "id": "a_6g7erk2WyX",
    "scrolled": true
   },
   "outputs": [
    {
     "name": "stderr",
     "output_type": "stream",
     "text": [
      "Using TensorFlow backend.\n",
      "c:\\users\\mbura\\appdata\\local\\programs\\python\\python36\\lib\\site-packages\\tensorflow\\python\\framework\\dtypes.py:523: FutureWarning: Passing (type, 1) or '1type' as a synonym of type is deprecated; in a future version of numpy, it will be understood as (type, (1,)) / '(1,)type'.\n",
      "  _np_qint8 = np.dtype([(\"qint8\", np.int8, 1)])\n",
      "c:\\users\\mbura\\appdata\\local\\programs\\python\\python36\\lib\\site-packages\\tensorflow\\python\\framework\\dtypes.py:524: FutureWarning: Passing (type, 1) or '1type' as a synonym of type is deprecated; in a future version of numpy, it will be understood as (type, (1,)) / '(1,)type'.\n",
      "  _np_quint8 = np.dtype([(\"quint8\", np.uint8, 1)])\n",
      "c:\\users\\mbura\\appdata\\local\\programs\\python\\python36\\lib\\site-packages\\tensorflow\\python\\framework\\dtypes.py:525: FutureWarning: Passing (type, 1) or '1type' as a synonym of type is deprecated; in a future version of numpy, it will be understood as (type, (1,)) / '(1,)type'.\n",
      "  _np_qint16 = np.dtype([(\"qint16\", np.int16, 1)])\n",
      "c:\\users\\mbura\\appdata\\local\\programs\\python\\python36\\lib\\site-packages\\tensorflow\\python\\framework\\dtypes.py:526: FutureWarning: Passing (type, 1) or '1type' as a synonym of type is deprecated; in a future version of numpy, it will be understood as (type, (1,)) / '(1,)type'.\n",
      "  _np_quint16 = np.dtype([(\"quint16\", np.uint16, 1)])\n",
      "c:\\users\\mbura\\appdata\\local\\programs\\python\\python36\\lib\\site-packages\\tensorflow\\python\\framework\\dtypes.py:527: FutureWarning: Passing (type, 1) or '1type' as a synonym of type is deprecated; in a future version of numpy, it will be understood as (type, (1,)) / '(1,)type'.\n",
      "  _np_qint32 = np.dtype([(\"qint32\", np.int32, 1)])\n",
      "c:\\users\\mbura\\appdata\\local\\programs\\python\\python36\\lib\\site-packages\\tensorflow\\python\\framework\\dtypes.py:532: FutureWarning: Passing (type, 1) or '1type' as a synonym of type is deprecated; in a future version of numpy, it will be understood as (type, (1,)) / '(1,)type'.\n",
      "  np_resource = np.dtype([(\"resource\", np.ubyte, 1)])\n"
     ]
    }
   ],
   "source": [
    "import json\n",
    "import os\n",
    "import cv2\n",
    "import keras\n",
    "\n",
    "import tensorflow as tf\n",
    "import pandas as pd\n",
    "import numpy as np\n",
    "\n",
    "from PIL import Image\n",
    "from glob import glob\n",
    "from keras import backend as K\n",
    "\n",
    "from keras.applications.densenet import DenseNet121, preprocess_input\n",
    "#from keras.applications.mobilenetv2 import MobileNetV2, preprocess_input\n",
    "from keras.preprocessing.image import ImageDataGenerator\n",
    "from keras.models import Sequential, Model\n",
    "from keras.optimizers import SGD, rmsprop, Adam\n",
    "from keras.callbacks import EarlyStopping, ModelCheckpoint, ReduceLROnPlateau, TensorBoard\n",
    "from keras.metrics import (categorical_accuracy, categorical_crossentropy,\n",
    "                           top_k_categorical_accuracy)\n",
    "from keras.layers import (Dense,Input, Conv2D, MaxPooling2D, \n",
    "                          Activation, Flatten, Dropout, Cropping2D, \n",
    "                          Lambda, GlobalAveragePooling2D, BatchNormalization, \n",
    "                          AveragePooling2D,Convolution2D)\n",
    "            \n",
    "from sklearn.model_selection import train_test_split\n",
    "from sklearn.metrics import classification_report, hamming_loss\n",
    "from sklearn.utils.class_weight import compute_class_weight\n",
    "\n",
    "import imutils\n",
    "import matplotlib.pyplot as plt\n",
    "\n",
    "%matplotlib inline"
   ]
  },
  {
   "cell_type": "code",
   "execution_count": 2,
   "metadata": {},
   "outputs": [
    {
     "data": {
      "text/plain": [
       "('1.10.0', '2.2.4')"
      ]
     },
     "execution_count": 2,
     "metadata": {},
     "output_type": "execute_result"
    }
   ],
   "source": [
    "tf.__version__, keras.__version__"
   ]
  },
  {
   "cell_type": "code",
   "execution_count": 3,
   "metadata": {
    "colab": {},
    "colab_type": "code",
    "id": "306cttvb2QOY",
    "scrolled": true
   },
   "outputs": [],
   "source": [
    "train_files = \"C:/Users/mbura/Desktop/pycrewDataset/train/*\"\n",
    "train_path = \"C:/Users/mbura/Desktop/pycrewDataset/train/\""
   ]
  },
  {
   "cell_type": "code",
   "execution_count": 4,
   "metadata": {},
   "outputs": [],
   "source": [
    "labels = [paths.split(\"\\\\\")[-1] for paths in glob(train_files + \"*\")]"
   ]
  },
  {
   "cell_type": "markdown",
   "metadata": {},
   "source": [
    "### Get class weight"
   ]
  },
  {
   "cell_type": "code",
   "execution_count": 5,
   "metadata": {},
   "outputs": [
    {
     "data": {
      "text/plain": [
       "array(['a', 'd', 'nk', 's', 'sa', 'sd', 'w', 'wa', 'wd'], dtype='<U2')"
      ]
     },
     "execution_count": 5,
     "metadata": {},
     "output_type": "execute_result"
    }
   ],
   "source": [
    "y = []\n",
    "\n",
    "for label_path in glob(train_files):\n",
    "    for pic in glob(label_path + \"/*\" ):\n",
    "        label = pic.split(\"\\\\\")[1]\n",
    "        y.append(label)\n",
    "    \n",
    "#         img = cv2.imread(pic)\n",
    "#         img = cv2.cvtColor(img, cv2.COLOR_BGR2RGB)\n",
    "#         X.append(img)\n",
    "np.unique(y)"
   ]
  },
  {
   "cell_type": "code",
   "execution_count": 6,
   "metadata": {},
   "outputs": [
    {
     "data": {
      "text/plain": [
       "array([ 3.74539972,  3.43844263,  1.21969864,  5.17634459, 20.65470085,\n",
       "       19.5087333 ,  0.19274989,  0.93091976,  0.93706289])"
      ]
     },
     "execution_count": 6,
     "metadata": {},
     "output_type": "execute_result"
    }
   ],
   "source": [
    "class_weights = compute_class_weight('balanced', np.unique(y), y)\n",
    "class_weights"
   ]
  },
  {
   "cell_type": "markdown",
   "metadata": {
    "colab_type": "text",
    "id": "qkb8JoJOZfN4"
   },
   "source": [
    "## **Best Model: DenseNet121**"
   ]
  },
  {
   "cell_type": "code",
   "execution_count": 7,
   "metadata": {},
   "outputs": [],
   "source": [
    "BS = 16\n",
    "SIZE = 224\n",
    "TEST_SIZE = 0.2"
   ]
  },
  {
   "cell_type": "code",
   "execution_count": 56,
   "metadata": {},
   "outputs": [],
   "source": [
    "K.set_image_dim_ordering('tf')\n",
    "\n",
    "def atan_layer(x):\n",
    "    print(x, tf.mul(tf.atan(x), 2))\n",
    "    return tf.mul(tf.atan(x), 2)\n",
    "\n",
    "def atan_layer_shape(input_shape):\n",
    "    return input_shape\n",
    "\n",
    "def atan(x):\n",
    "    return tf.atan(x)\n",
    "\n",
    "def NVIDIA():\n",
    "    \n",
    "    \"\"\"\n",
    "            https://github.com/hdmetor/Nvidia-SelfDriving\n",
    "    \"\"\"\n",
    "    \n",
    "    inputs = Input(shape=(224, 224, 3))\n",
    "    conv_1 = Convolution2D(24, 5, 5, activation='relu', name='conv_1', subsample=(2, 2))(inputs)\n",
    "    conv_2 = Convolution2D(36, 5, 5, activation='relu', name='conv_2', subsample=(2, 2))(conv_1)\n",
    "    conv_3 = Convolution2D(48, 5, 5, activation='relu', name='conv_3', subsample=(2, 2))(conv_2)\n",
    "    conv_3 = Dropout(.5)(conv_3)\n",
    "\n",
    "    conv_4 = Convolution2D(64, 3, 3, activation='relu', name='conv_4', subsample=(1, 1))(conv_3)\n",
    "    conv_5 = Convolution2D(64, 3, 3, activation='relu', name='conv_5', subsample=(1, 1))(conv_4)\n",
    "\n",
    "    flat = Flatten()(conv_5)\n",
    "\n",
    "    dense_1 = Dense(1164)(flat)\n",
    "    dense_1 = Dropout(.1)(flat)\n",
    "    dense_2 = Dense(100, activation='relu')(dense_1)\n",
    "    dense_2 = Dropout(.1)(flat)\n",
    "    dense_3 = Dense(50, activation='relu')(dense_2)\n",
    "    dense_3 = Dropout(.1)(flat)\n",
    "    dense_4 = Dense(10, activation='relu')(dense_3)\n",
    "    dense_4 = Dropout(.1)(flat)\n",
    "\n",
    "    final = Dense(4, activation='sigmoid')(dense_4)\n",
    "    \n",
    "    model = Model(input=inputs, output=final)\n",
    "    model.compile(optimizer=SGD(lr=1e-3, momentum=.9), loss=\"binary_crossentropy\", metrics=['accuracy'])\n",
    "    \n",
    "    return model"
   ]
  },
  {
   "cell_type": "code",
   "execution_count": 57,
   "metadata": {
    "scrolled": true
   },
   "outputs": [
    {
     "name": "stderr",
     "output_type": "stream",
     "text": [
      "c:\\users\\mbura\\appdata\\local\\programs\\python\\python36\\lib\\site-packages\\ipykernel_launcher.py:20: UserWarning: Update your `Conv2D` call to the Keras 2 API: `Conv2D(24, (5, 5), activation=\"relu\", name=\"conv_1\", strides=(2, 2))`\n",
      "c:\\users\\mbura\\appdata\\local\\programs\\python\\python36\\lib\\site-packages\\ipykernel_launcher.py:21: UserWarning: Update your `Conv2D` call to the Keras 2 API: `Conv2D(36, (5, 5), activation=\"relu\", name=\"conv_2\", strides=(2, 2))`\n",
      "c:\\users\\mbura\\appdata\\local\\programs\\python\\python36\\lib\\site-packages\\ipykernel_launcher.py:22: UserWarning: Update your `Conv2D` call to the Keras 2 API: `Conv2D(48, (5, 5), activation=\"relu\", name=\"conv_3\", strides=(2, 2))`\n",
      "c:\\users\\mbura\\appdata\\local\\programs\\python\\python36\\lib\\site-packages\\ipykernel_launcher.py:25: UserWarning: Update your `Conv2D` call to the Keras 2 API: `Conv2D(64, (3, 3), activation=\"relu\", name=\"conv_4\", strides=(1, 1))`\n",
      "c:\\users\\mbura\\appdata\\local\\programs\\python\\python36\\lib\\site-packages\\ipykernel_launcher.py:26: UserWarning: Update your `Conv2D` call to the Keras 2 API: `Conv2D(64, (3, 3), activation=\"relu\", name=\"conv_5\", strides=(1, 1))`\n",
      "c:\\users\\mbura\\appdata\\local\\programs\\python\\python36\\lib\\site-packages\\ipykernel_launcher.py:41: UserWarning: Update your `Model` call to the Keras 2 API: `Model(inputs=Tensor(\"in..., outputs=Tensor(\"de...)`\n"
     ]
    }
   ],
   "source": [
    "model = NVIDIA()"
   ]
  },
  {
   "cell_type": "code",
   "execution_count": 58,
   "metadata": {},
   "outputs": [
    {
     "ename": "FileExistsError",
     "evalue": "[WinError 183] Halen varolan bir dosya oluşturulamaz: './logs/nvidiaMult/'",
     "output_type": "error",
     "traceback": [
      "\u001b[1;31m---------------------------------------------------------------------------\u001b[0m",
      "\u001b[1;31mFileExistsError\u001b[0m                           Traceback (most recent call last)",
      "\u001b[1;32m<ipython-input-58-54beed21a32f>\u001b[0m in \u001b[0;36m<module>\u001b[1;34m\u001b[0m\n\u001b[0;32m      1\u001b[0m \u001b[0mlog_dir\u001b[0m \u001b[1;33m=\u001b[0m \u001b[1;34m\"./logs/nvidiaMult/\"\u001b[0m\u001b[1;33m\u001b[0m\u001b[1;33m\u001b[0m\u001b[0m\n\u001b[1;32m----> 2\u001b[1;33m \u001b[0mos\u001b[0m\u001b[1;33m.\u001b[0m\u001b[0mmkdir\u001b[0m\u001b[1;33m(\u001b[0m\u001b[0mlog_dir\u001b[0m\u001b[1;33m)\u001b[0m\u001b[1;33m\u001b[0m\u001b[1;33m\u001b[0m\u001b[0m\n\u001b[0m",
      "\u001b[1;31mFileExistsError\u001b[0m: [WinError 183] Halen varolan bir dosya oluşturulamaz: './logs/nvidiaMult/'"
     ]
    }
   ],
   "source": [
    "log_dir = \"./logs/nvidiaMult/\"\n",
    "os.mkdir(log_dir)"
   ]
  },
  {
   "cell_type": "code",
   "execution_count": 59,
   "metadata": {},
   "outputs": [
    {
     "name": "stderr",
     "output_type": "stream",
     "text": [
      "c:\\users\\mbura\\appdata\\local\\programs\\python\\python36\\lib\\site-packages\\keras\\callbacks.py:1086: RuntimeWarning: Learning Rate Plateau Reducing mode <built-in function min> is unknown, fallback to auto mode.\n",
      "  RuntimeWarning)\n"
     ]
    }
   ],
   "source": [
    "callbacks = [EarlyStopping(patience = 10, verbose=1),\n",
    "            ReduceLROnPlateau(monitor='val_loss', factor=0.2, patience = 6, min_lr=0.000001, verbose=1, mode=min),\n",
    "            ModelCheckpoint(log_dir + \"ep{epoch:03d}-loss{loss:.3f}-val_loss{val_loss:.3f}.h5\", monitor='val_loss', save_weights_only=True, save_best_only=True),\n",
    "            TensorBoard(log_dir=log_dir)]"
   ]
  },
  {
   "cell_type": "code",
   "execution_count": 60,
   "metadata": {
    "colab": {
     "base_uri": "https://localhost:8080/",
     "height": 92
    },
    "colab_type": "code",
    "id": "ROabyNTPZiID",
    "outputId": "2c821edf-4474-4377-a041-b48d525b426b"
   },
   "outputs": [],
   "source": [
    "# base_model = DenseNet121(include_top=False, weights='imagenet',\n",
    "#                          input_shape=(SIZE, SIZE, 3), classes=9)\n",
    "# x = base_model.output\n",
    "# x = GlobalAveragePooling2D()(x)\n",
    "# x = Dense(1024, activation='relu')(x)\n",
    "\n",
    "# predictions = Dense(9, activation='softmax')(x)\n",
    "# model = Model(inputs=base_model.input, outputs=predictions)\n",
    "\n",
    "\n",
    "# for layer in model.layers:  \n",
    "#     layer.trainable = True\n",
    "\n",
    "# model.compile(optimizer=Adam(lr=1e-3, decay=1e-9), loss=\"categorical_crossentropy\", metrics=['accuracy'])\n"
   ]
  },
  {
   "cell_type": "code",
   "execution_count": 61,
   "metadata": {},
   "outputs": [],
   "source": [
    "df = pd.read_csv(\"train.csv\")"
   ]
  },
  {
   "cell_type": "code",
   "execution_count": 62,
   "metadata": {},
   "outputs": [],
   "source": [
    "df = df.sample(frac=1)  # Shuffle dataframe\n",
    "\n",
    "columns = df.columns[1:]"
   ]
  },
  {
   "cell_type": "code",
   "execution_count": 63,
   "metadata": {},
   "outputs": [],
   "source": [
    "df, df_val = train_test_split(df, test_size = 0.3, random_state = 13)\n",
    "df_val, df_test = train_test_split(df, test_size = 0.33, random_state = 13)"
   ]
  },
  {
   "cell_type": "code",
   "execution_count": 64,
   "metadata": {},
   "outputs": [
    {
     "data": {
      "text/plain": [
       "((93039, 5), (62336, 5), (30703, 5))"
      ]
     },
     "execution_count": 64,
     "metadata": {},
     "output_type": "execute_result"
    }
   ],
   "source": [
    "df.shape, df_val.shape, df_test.shape"
   ]
  },
  {
   "cell_type": "code",
   "execution_count": 65,
   "metadata": {},
   "outputs": [
    {
     "name": "stdout",
     "output_type": "stream",
     "text": [
      "Found 93039 validated image filenames.\n",
      "Found 62336 validated image filenames.\n",
      "Found 30703 validated image filenames.\n"
     ]
    }
   ],
   "source": [
    "datagen = ImageDataGenerator(rescale = 1./255.)\n",
    "\n",
    "test_datagen = ImageDataGenerator(rescale = 1./255.)\n",
    "\n",
    "train_generator = datagen.flow_from_dataframe(\n",
    "                                dataframe = df,\n",
    "                                x_col=\"filename\",\n",
    "                                y_col = columns,\n",
    "                                batch_size = BS,\n",
    "                                seed = 13,\n",
    "                                shuffle = True,\n",
    "                                class_mode =\"raw\",\n",
    "                                target_size = (SIZE, SIZE))\n",
    "\n",
    "validation_generator = test_datagen.flow_from_dataframe(\n",
    "                                dataframe = df_val,\n",
    "                                x_col=\"filename\",\n",
    "                                y_col=columns,\n",
    "                                batch_size = BS,\n",
    "                                seed = 13,\n",
    "                                shuffle = True,\n",
    "                                class_mode = \"raw\",\n",
    "                                target_size = (SIZE, SIZE))\n",
    "\n",
    "test_generator = test_datagen.flow_from_dataframe(\n",
    "                                dataframe = df_test,\n",
    "                                x_col = \"filename\",\n",
    "                                batch_size = 1,\n",
    "                                seed = 13,\n",
    "                                shuffle = False,\n",
    "                                class_mode = None,\n",
    "                                target_size = (SIZE, SIZE))"
   ]
  },
  {
   "cell_type": "code",
   "execution_count": 66,
   "metadata": {},
   "outputs": [
    {
     "name": "stdout",
     "output_type": "stream",
     "text": [
      "Epoch 1/30\n",
      "5814/5814 [==============================] - 165s 28ms/step - loss: 0.3922 - acc: 0.8506 - val_loss: 0.3577 - val_acc: 0.8591\n",
      "Epoch 2/30\n",
      "5814/5814 [==============================] - 167s 29ms/step - loss: 0.3532 - acc: 0.8604 - val_loss: 0.3402 - val_acc: 0.8644\n",
      "Epoch 3/30\n",
      "5814/5814 [==============================] - 171s 29ms/step - loss: 0.3351 - acc: 0.8658 - val_loss: 0.3178 - val_acc: 0.8709\n",
      "Epoch 4/30\n",
      "5814/5814 [==============================] - 179s 31ms/step - loss: 0.3177 - acc: 0.8714 - val_loss: 0.3064 - val_acc: 0.8761\n",
      "Epoch 5/30\n",
      "5814/5814 [==============================] - 181s 31ms/step - loss: 0.3083 - acc: 0.8748 - val_loss: 0.3001 - val_acc: 0.8778\n",
      "Epoch 6/30\n",
      "5814/5814 [==============================] - 182s 31ms/step - loss: 0.3028 - acc: 0.8767 - val_loss: 0.2942 - val_acc: 0.8799\n",
      "Epoch 7/30\n",
      "5814/5814 [==============================] - 183s 31ms/step - loss: 0.2990 - acc: 0.8777 - val_loss: 0.2908 - val_acc: 0.8807\n",
      "Epoch 8/30\n",
      "5814/5814 [==============================] - 183s 32ms/step - loss: 0.2957 - acc: 0.8793 - val_loss: 0.2870 - val_acc: 0.8825\n",
      "Epoch 9/30\n",
      "5814/5814 [==============================] - 185s 32ms/step - loss: 0.2929 - acc: 0.8806 - val_loss: 0.2848 - val_acc: 0.8827\n",
      "Epoch 10/30\n",
      "5814/5814 [==============================] - 185s 32ms/step - loss: 0.2904 - acc: 0.8813 - val_loss: 0.2808 - val_acc: 0.8842\n",
      "Epoch 11/30\n",
      "5814/5814 [==============================] - 185s 32ms/step - loss: 0.2879 - acc: 0.8822 - val_loss: 0.2813 - val_acc: 0.8846\n",
      "Epoch 12/30\n",
      "5814/5814 [==============================] - 201s 35ms/step - loss: 0.2857 - acc: 0.8832 - val_loss: 0.2754 - val_acc: 0.8858\n",
      "Epoch 13/30\n",
      "5814/5814 [==============================] - 202s 35ms/step - loss: 0.2839 - acc: 0.8837 - val_loss: 0.2735 - val_acc: 0.8870\n",
      "Epoch 14/30\n",
      "5814/5814 [==============================] - 198s 34ms/step - loss: 0.2819 - acc: 0.8843 - val_loss: 0.2722 - val_acc: 0.8874\n",
      "Epoch 15/30\n",
      "5814/5814 [==============================] - 214s 37ms/step - loss: 0.2802 - acc: 0.8851 - val_loss: 0.2685 - val_acc: 0.8892\n",
      "Epoch 16/30\n",
      "5814/5814 [==============================] - 199s 34ms/step - loss: 0.2777 - acc: 0.8860 - val_loss: 0.2684 - val_acc: 0.8898\n",
      "Epoch 17/30\n",
      "5814/5814 [==============================] - 192s 33ms/step - loss: 0.2764 - acc: 0.8863 - val_loss: 0.2661 - val_acc: 0.8906\n",
      "Epoch 18/30\n",
      "5814/5814 [==============================] - 202s 35ms/step - loss: 0.2749 - acc: 0.8871 - val_loss: 0.2628 - val_acc: 0.8913\n",
      "Epoch 19/30\n",
      "5814/5814 [==============================] - 211s 36ms/step - loss: 0.2729 - acc: 0.8878 - val_loss: 0.2598 - val_acc: 0.8920\n",
      "Epoch 20/30\n",
      "5814/5814 [==============================] - 201s 35ms/step - loss: 0.2712 - acc: 0.8883 - val_loss: 0.2577 - val_acc: 0.8932\n",
      "Epoch 21/30\n",
      "5814/5814 [==============================] - 200s 34ms/step - loss: 0.2701 - acc: 0.8887 - val_loss: 0.2554 - val_acc: 0.8946\n",
      "Epoch 22/30\n",
      "5814/5814 [==============================] - 230s 39ms/step - loss: 0.2676 - acc: 0.8897 - val_loss: 0.2518 - val_acc: 0.8956\n",
      "Epoch 23/30\n",
      "5814/5814 [==============================] - 204s 35ms/step - loss: 0.2659 - acc: 0.8903 - val_loss: 0.2514 - val_acc: 0.8958\n",
      "Epoch 24/30\n",
      "5814/5814 [==============================] - 199s 34ms/step - loss: 0.2639 - acc: 0.8913 - val_loss: 0.2495 - val_acc: 0.8967\n",
      "Epoch 25/30\n",
      "5814/5814 [==============================] - 208s 36ms/step - loss: 0.2627 - acc: 0.8917 - val_loss: 0.2448 - val_acc: 0.8994\n",
      "Epoch 26/30\n",
      "5814/5814 [==============================] - 217s 37ms/step - loss: 0.2609 - acc: 0.8924 - val_loss: 0.2455 - val_acc: 0.8985\n",
      "Epoch 27/30\n",
      "5814/5814 [==============================] - 198s 34ms/step - loss: 0.2591 - acc: 0.8933 - val_loss: 0.2443 - val_acc: 0.8991\n",
      "Epoch 28/30\n",
      "5814/5814 [==============================] - 196s 34ms/step - loss: 0.2577 - acc: 0.8940 - val_loss: 0.2411 - val_acc: 0.9010\n",
      "Epoch 29/30\n",
      "5814/5814 [==============================] - 196s 34ms/step - loss: 0.2561 - acc: 0.8947 - val_loss: 0.2379 - val_acc: 0.9023\n",
      "Epoch 30/30\n",
      "5814/5814 [==============================] - 205s 35ms/step - loss: 0.2540 - acc: 0.8954 - val_loss: 0.2349 - val_acc: 0.9026\n"
     ]
    }
   ],
   "source": [
    "H = model.fit_generator(train_generator,\n",
    "                        class_weight = class_weights,\n",
    "                        shuffle = True,\n",
    "                        workers = 8,\n",
    "                        validation_data = validation_generator, \n",
    "                        validation_steps = validation_generator.samples  // BS,\n",
    "                        callbacks = callbacks, \n",
    "                        steps_per_epoch = train_generator.samples // BS,\n",
    "                        epochs = 30)"
   ]
  },
  {
   "cell_type": "code",
   "execution_count": 67,
   "metadata": {
    "colab": {},
    "colab_type": "code",
    "id": "EbxCz2MVZ75v"
   },
   "outputs": [
    {
     "data": {
      "text/plain": [
       "<matplotlib.legend.Legend at 0x1597aaa6da0>"
      ]
     },
     "execution_count": 67,
     "metadata": {},
     "output_type": "execute_result"
    },
    {
     "data": {
      "image/png": "[encoded data removed]",
      "text/plain": [
       "<Figure size 576x576 with 1 Axes>"
      ]
     },
     "metadata": {
      "needs_background": "light"
     },
     "output_type": "display_data"
    }
   ],
   "source": [
    "import matplotlib.pyplot as plt\n",
    "\n",
    "plt.figure(figsize=(8, 8))\n",
    "plt.title(\"Learning curve\")\n",
    "plt.plot(H.history[\"loss\"], label=\"loss\")\n",
    "plt.plot(H.history[\"val_loss\"], label=\"val_loss\")\n",
    "plt.plot( np.argmin(H.history[\"val_loss\"]), np.min(H.history[\"val_loss\"]), marker=\"x\", color=\"r\", label=\"best model\")\n",
    "plt.xlabel(\"Epochs\")\n",
    "plt.ylabel(\"CE Loss\")\n",
    "plt.legend()"
   ]
  },
  {
   "cell_type": "code",
   "execution_count": 91,
   "metadata": {},
   "outputs": [],
   "source": [
    "# with open('densenetv2.json','r') as f:\n",
    "#     model_json = json.load(f)\n",
    "\n",
    "# model = model_from_json(model_json)\n",
    "# model.load_weights(r\"./logs/nvidia/ep001-loss1.410-val_loss1.461.h5\")"
   ]
  },
  {
   "cell_type": "code",
   "execution_count": 34,
   "metadata": {},
   "outputs": [],
   "source": [
    "model.load_weights(\"logs/densenet2/ep008-loss0.696-val_loss0.772.h5\")"
   ]
  },
  {
   "cell_type": "code",
   "execution_count": 68,
   "metadata": {
    "scrolled": true
   },
   "outputs": [
    {
     "data": {
      "text/plain": [
       "62336"
      ]
     },
     "execution_count": 68,
     "metadata": {},
     "output_type": "execute_result"
    }
   ],
   "source": [
    "filenames = validation_generator.filenames\n",
    "nb_samples = len(filenames)\n",
    "nb_samples"
   ]
  },
  {
   "cell_type": "code",
   "execution_count": 96,
   "metadata": {},
   "outputs": [
    {
     "data": {
      "text/html": [
       "<div>\n",
       "<style scoped>\n",
       "    .dataframe tbody tr th:only-of-type {\n",
       "        vertical-align: middle;\n",
       "    }\n",
       "\n",
       "    .dataframe tbody tr th {\n",
       "        vertical-align: top;\n",
       "    }\n",
       "\n",
       "    .dataframe thead th {\n",
       "        text-align: right;\n",
       "    }\n",
       "</style>\n",
       "<table border=\"1\" class=\"dataframe\">\n",
       "  <thead>\n",
       "    <tr style=\"text-align: right;\">\n",
       "      <th></th>\n",
       "      <th>filename</th>\n",
       "      <th>w</th>\n",
       "      <th>s</th>\n",
       "      <th>a</th>\n",
       "      <th>d</th>\n",
       "    </tr>\n",
       "  </thead>\n",
       "  <tbody>\n",
       "    <tr>\n",
       "      <th>104409</th>\n",
       "      <td>C:/Users/mbura/Desktop/pycrewDataset/train/wd/...</td>\n",
       "      <td>1</td>\n",
       "      <td>0</td>\n",
       "      <td>0</td>\n",
       "      <td>1</td>\n",
       "    </tr>\n",
       "    <tr>\n",
       "      <th>2721</th>\n",
       "      <td>C:/Users/mbura/Desktop/pycrewDataset/train/w/1...</td>\n",
       "      <td>1</td>\n",
       "      <td>0</td>\n",
       "      <td>0</td>\n",
       "      <td>0</td>\n",
       "    </tr>\n",
       "    <tr>\n",
       "      <th>107926</th>\n",
       "      <td>C:/Users/mbura/Desktop/pycrewDataset/train/wd/...</td>\n",
       "      <td>1</td>\n",
       "      <td>0</td>\n",
       "      <td>0</td>\n",
       "      <td>1</td>\n",
       "    </tr>\n",
       "    <tr>\n",
       "      <th>29508</th>\n",
       "      <td>C:/Users/mbura/Desktop/pycrewDataset/train/w/2...</td>\n",
       "      <td>1</td>\n",
       "      <td>0</td>\n",
       "      <td>0</td>\n",
       "      <td>0</td>\n",
       "    </tr>\n",
       "    <tr>\n",
       "      <th>57064</th>\n",
       "      <td>C:/Users/mbura/Desktop/pycrewDataset/train/w/6...</td>\n",
       "      <td>1</td>\n",
       "      <td>0</td>\n",
       "      <td>0</td>\n",
       "      <td>0</td>\n",
       "    </tr>\n",
       "    <tr>\n",
       "      <th>...</th>\n",
       "      <td>...</td>\n",
       "      <td>...</td>\n",
       "      <td>...</td>\n",
       "      <td>...</td>\n",
       "      <td>...</td>\n",
       "    </tr>\n",
       "    <tr>\n",
       "      <th>68963</th>\n",
       "      <td>C:/Users/mbura/Desktop/pycrewDataset/train/w/8...</td>\n",
       "      <td>1</td>\n",
       "      <td>0</td>\n",
       "      <td>0</td>\n",
       "      <td>0</td>\n",
       "    </tr>\n",
       "    <tr>\n",
       "      <th>11230</th>\n",
       "      <td>C:/Users/mbura/Desktop/pycrewDataset/train/w/1...</td>\n",
       "      <td>1</td>\n",
       "      <td>0</td>\n",
       "      <td>0</td>\n",
       "      <td>0</td>\n",
       "    </tr>\n",
       "    <tr>\n",
       "      <th>45505</th>\n",
       "      <td>C:/Users/mbura/Desktop/pycrewDataset/train/w/5...</td>\n",
       "      <td>1</td>\n",
       "      <td>0</td>\n",
       "      <td>0</td>\n",
       "      <td>0</td>\n",
       "    </tr>\n",
       "    <tr>\n",
       "      <th>53977</th>\n",
       "      <td>C:/Users/mbura/Desktop/pycrewDataset/train/w/6...</td>\n",
       "      <td>1</td>\n",
       "      <td>0</td>\n",
       "      <td>0</td>\n",
       "      <td>0</td>\n",
       "    </tr>\n",
       "    <tr>\n",
       "      <th>67369</th>\n",
       "      <td>C:/Users/mbura/Desktop/pycrewDataset/train/w/8...</td>\n",
       "      <td>1</td>\n",
       "      <td>0</td>\n",
       "      <td>0</td>\n",
       "      <td>0</td>\n",
       "    </tr>\n",
       "  </tbody>\n",
       "</table>\n",
       "<p>30703 rows × 5 columns</p>\n",
       "</div>"
      ],
      "text/plain": [
       "                                                 filename  w  s  a  d\n",
       "104409  C:/Users/mbura/Desktop/pycrewDataset/train/wd/...  1  0  0  1\n",
       "2721    C:/Users/mbura/Desktop/pycrewDataset/train/w/1...  1  0  0  0\n",
       "107926  C:/Users/mbura/Desktop/pycrewDataset/train/wd/...  1  0  0  1\n",
       "29508   C:/Users/mbura/Desktop/pycrewDataset/train/w/2...  1  0  0  0\n",
       "57064   C:/Users/mbura/Desktop/pycrewDataset/train/w/6...  1  0  0  0\n",
       "...                                                   ... .. .. .. ..\n",
       "68963   C:/Users/mbura/Desktop/pycrewDataset/train/w/8...  1  0  0  0\n",
       "11230   C:/Users/mbura/Desktop/pycrewDataset/train/w/1...  1  0  0  0\n",
       "45505   C:/Users/mbura/Desktop/pycrewDataset/train/w/5...  1  0  0  0\n",
       "53977   C:/Users/mbura/Desktop/pycrewDataset/train/w/6...  1  0  0  0\n",
       "67369   C:/Users/mbura/Desktop/pycrewDataset/train/w/8...  1  0  0  0\n",
       "\n",
       "[30703 rows x 5 columns]"
      ]
     },
     "execution_count": 96,
     "metadata": {},
     "output_type": "execute_result"
    }
   ],
   "source": [
    "df_test"
   ]
  },
  {
   "cell_type": "code",
   "execution_count": 123,
   "metadata": {},
   "outputs": [
    {
     "name": "stderr",
     "output_type": "stream",
     "text": [
      "c:\\users\\mbura\\appdata\\local\\programs\\python\\python36\\lib\\site-packages\\pandas\\core\\frame.py:3509: SettingWithCopyWarning: \n",
      "A value is trying to be set on a copy of a slice from a DataFrame.\n",
      "Try using .loc[row_indexer,col_indexer] = value instead\n",
      "\n",
      "See the caveats in the documentation: http://pandas.pydata.org/pandas-docs/stable/user_guide/indexing.html#returning-a-view-versus-a-copy\n",
      "  self[k1] = value[k2]\n"
     ]
    }
   ],
   "source": [
    "df_test[df_test.columns[1:]] = df_test[df_test.columns[1:]].astype(bool)"
   ]
  },
  {
   "cell_type": "code",
   "execution_count": 126,
   "metadata": {},
   "outputs": [
    {
     "name": "stdout",
     "output_type": "stream",
     "text": [
      "854 µs ± 37.6 µs per loop (mean ± std. dev. of 7 runs, 1000 loops each)\n"
     ]
    }
   ],
   "source": [
    "%%timeit\n",
    "df_test[df_test.columns[1:]].iloc[:6].values[0] "
   ]
  },
  {
   "cell_type": "code",
   "execution_count": 127,
   "metadata": {},
   "outputs": [],
   "source": [
    "y_true = [df_test[df_test.columns[1:]].iloc[:i+1].values[0] for i in range(df_test.shape[0])]"
   ]
  },
  {
   "cell_type": "code",
   "execution_count": 142,
   "metadata": {},
   "outputs": [],
   "source": [
    "y_true = (np.array(y_true)).astype(float)"
   ]
  },
  {
   "cell_type": "code",
   "execution_count": 89,
   "metadata": {},
   "outputs": [
    {
     "name": "stdout",
     "output_type": "stream",
     "text": [
      "30703/30703 [==============================] - 66s 2ms/step\n"
     ]
    }
   ],
   "source": [
    "y_pred = model.predict_generator(test_generator, verbose = 1)"
   ]
  },
  {
   "cell_type": "code",
   "execution_count": 144,
   "metadata": {},
   "outputs": [],
   "source": [
    "y_pred = np.rint(y_pred)"
   ]
  },
  {
   "cell_type": "code",
   "execution_count": 146,
   "metadata": {},
   "outputs": [
    {
     "data": {
      "text/plain": [
       "0.3046200697000293"
      ]
     },
     "execution_count": 146,
     "metadata": {},
     "output_type": "execute_result"
    }
   ],
   "source": [
    "hamming_loss(y_pred, y_true)"
   ]
  },
  {
   "cell_type": "code",
   "execution_count": 76,
   "metadata": {
    "colab": {},
    "colab_type": "code",
    "id": "6ZN9VNvVoAwo"
   },
   "outputs": [],
   "source": [
    "# ## Save weights & model structure:\n",
    "\n",
    "# model.save_weights('densenet_yenidata.h5')"
   ]
  },
  {
   "cell_type": "code",
   "execution_count": 147,
   "metadata": {
    "colab": {},
    "colab_type": "code",
    "id": "6ZN9VNvVoAwo"
   },
   "outputs": [],
   "source": [
    "model_json = model.to_json()\n",
    "with open(\"nvidiaMult.json\", \"w\") as json_file:\n",
    "    json.dump(model_json, json_file)"
   ]
  },
  {
   "cell_type": "code",
   "execution_count": 89,
   "metadata": {
    "colab": {},
    "colab_type": "code",
    "id": "hYmWND97oBXo"
   },
   "outputs": [],
   "source": [
    "# from keras.models import load_model\n",
    "from keras.models import model_from_json\n",
    "# import json\n",
    "\n",
    "# ## Reload weights & model structure:\n",
    "\n",
    "# with open('model_in_json.json','r') as f:\n",
    "#     model_json = json.load(f)\n",
    "\n",
    "# model = model_from_json(model_json)\n",
    "# model.load_weights('model.h5')\n"
   ]
  },
  {
   "cell_type": "code",
   "execution_count": 93,
   "metadata": {},
   "outputs": [
    {
     "data": {
      "text/plain": [
       "'\" trainv1      \\n                precision    recall  f1-score   support\\n        \\n           a       0.24      0.71      0.36       271\\n           d       0.42      0.55      0.47       290\\n          nk       0.53      0.41      0.46       813\\n           s       0.56      0.17      0.26       193\\n          sa       0.50      0.33      0.40        52\\n          sd       0.22      0.25      0.23        53\\n           w       0.79      0.65      0.71      4940\\n          wa       0.41      0.63      0.49      1038\\n          wd       0.46      0.48      0.47      1022\\n\\n    accuracy                           0.59      8672\\n   macro avg       0.46      0.46      0.43      8672\\nweighted avg       0.64      0.59      0.60      8672'"
      ]
     },
     "execution_count": 93,
     "metadata": {},
     "output_type": "execute_result"
    }
   ],
   "source": [
    "\"\"\"\" NVIDIA: Multilabel Loss / Hamming Loss = .30\n",
    "     5814/5814 [==============================] - 205s 35ms/step - loss: 0.2540 - acc: 0.8954 - val_loss: 0.2349 - val_acc: 0.9026\n",
    "\"\"\"\""
   ]
  }
 ],
 "metadata": {
  "accelerator": "TPU",
  "colab": {
   "collapsed_sections": [],
   "name": "Vintelligence'd.ipynb",
   "provenance": [],
   "version": "0.3.2"
  },
  "kernelspec": {
   "display_name": "Python 3",
   "language": "python",
   "name": "python3"
  },
  "language_info": {
   "codemirror_mode": {
    "name": "ipython",
    "version": 3
   },
   "file_extension": ".py",
   "mimetype": "text/x-python",
   "name": "python",
   "nbconvert_exporter": "python",
   "pygments_lexer": "ipython3",
   "version": "3.6.7"
  }
 },
 "nbformat": 4,
 "nbformat_minor": 2
}
