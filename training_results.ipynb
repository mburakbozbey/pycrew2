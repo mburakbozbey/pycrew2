{
 "cells": [
  {
   "cell_type": "code",
   "execution_count": 17,
   "metadata": {},
   "outputs": [],
   "source": [
    "import numpy as np\n",
    "from keras.models import model_from_json\n",
    "import json\n",
    "from keras.applications.densenet import preprocess_input\n",
    "from glob import glob\n",
    "from tqdm.notebook import tqdm\n",
    "from sklearn.metrics import confusion_matrix, classification_report, accuracy_score"
   ]
  },
  {
   "cell_type": "markdown",
   "metadata": {},
   "source": [
    "## ('First model', 0.545)\n",
    "## ('Second model', 0.56595)\n"
   ]
  },
  {
   "cell_type": "code",
   "execution_count": 2,
   "metadata": {},
   "outputs": [
    {
     "name": "stdout",
     "output_type": "stream",
     "text": [
      "Loss 0.7809993827160494\n",
      "Acc 0.7008757716049383\n",
      "Val Loss 0.6898679783950618\n",
      "Val Acc 0.7234876543209876\n"
     ]
    }
   ],
   "source": [
    "f = open(\"first_batch_log.txt\", \"r\")\n",
    "lines = f.readlines()\n",
    "lines_ = [ln for ln in lines if \"val_acc\" in ln]\n",
    "lines_loss = [float(loss.split(\"-\")[2].split(\"loss: \")[-1]) for loss in lines_]\n",
    "print(\"Loss\" , np.mean(lines_loss))\n",
    "lines_acc = [float(acc.split(\"-\")[3].split(\"acc: \")[-1]) for acc in lines_]\n",
    "print(\"Acc\" , np.mean(lines_acc))\n",
    "lines_val_loss = [float(val_loss.split(\"-\")[6].split(\"val_loss: \")[-1]) for val_loss in lines_]\n",
    "print(\"Val Loss\" , np.mean(lines_val_loss))\n",
    "lines_val_acc = [float(val_acc.split(\"-\")[7].split(\"val_acc: \")[-1]) for val_acc in lines_]\n",
    "print(\"Val Acc\" , np.mean(lines_val_acc))"
   ]
  },
  {
   "cell_type": "code",
   "execution_count": 3,
   "metadata": {},
   "outputs": [
    {
     "name": "stdout",
     "output_type": "stream",
     "text": [
      "Loss 0.9948941379310347\n",
      "Acc 0.6466745689655172\n",
      "Val Loss 1.0495275\n",
      "Val Acc 0.6425775862068966\n"
     ]
    }
   ],
   "source": [
    "f = open(\"second_batch_log.txt\", \"r\")\n",
    "lines = f.readlines()\n",
    "lines_ = [ln for ln in lines if \"val_acc\" in ln]\n",
    "lines_loss = [float(loss.split(\"-\")[2].split(\"loss: \")[-1]) for loss in lines_]\n",
    "print(\"Loss\" , np.mean(lines_loss))\n",
    "lines_acc = [float(acc.split(\"-\")[3].split(\"acc: \")[-1]) for acc in lines_]\n",
    "print(\"Acc\" , np.mean(lines_acc))\n",
    "lines_val_loss = [float(val_loss.split(\"-\")[6].split(\"val_loss: \")[-1]) for val_loss in lines_]\n",
    "print(\"Val Loss\" , np.mean(lines_val_loss))\n",
    "lines_val_acc = [float(val_acc.split(\"-\")[7].split(\"val_acc: \")[-1]) for val_acc in lines_]\n",
    "print(\"Val Acc\" , np.mean(lines_val_acc))"
   ]
  },
  {
   "cell_type": "code",
   "execution_count": 26,
   "metadata": {},
   "outputs": [],
   "source": [
    "with open('second_batch_model_Epoch_3_json.json','r') as f:\n",
    "    model_json = json.load(f)\n",
    "model = model_from_json(model_json)\n",
    "model.load_weights('second_batch_model_Epoch_3.h5')"
   ]
  },
  {
   "cell_type": "code",
   "execution_count": 13,
   "metadata": {},
   "outputs": [],
   "source": [
    "val_paths = glob(r\"E:\\crew2_train\\validation\\*\")\n",
    "val_idx = [path.split(\"-\")[-1].split(\".\")[0] for path in val_paths]"
   ]
  },
  {
   "cell_type": "code",
   "execution_count": 27,
   "metadata": {
    "scrolled": true
   },
   "outputs": [
    {
     "data": {
      "application/vnd.jupyter.widget-view+json": {
       "model_id": "f14216a164e640cab499f7ca16066c6b",
       "version_major": 2,
       "version_minor": 0
      },
      "text/plain": [
       "HBox(children=(FloatProgress(value=1.0, bar_style='info', max=1.0), HTML(value='')))"
      ]
     },
     "metadata": {},
     "output_type": "display_data"
    },
    {
     "name": "stdout",
     "output_type": "stream",
     "text": [
      "0 0.756\n",
      "1 0.594\n",
      "2 0.526\n",
      "3 0.522\n",
      "4 0.47\n",
      "5 0.29\n",
      "6 0.374\n",
      "7 0.78\n",
      "8 0.462\n",
      "9 0.642\n",
      "10 0.658\n",
      "11 0.524\n",
      "12 0.63\n",
      "13 0.878\n",
      "14 0.54\n",
      "15 0.54\n",
      "16 0.646\n",
      "17 0.782\n",
      "18 0.734\n",
      "19 0.538\n",
      "20 0.556\n",
      "21 0.704\n",
      "22 0.416\n",
      "23 0.496\n",
      "24 0.462\n",
      "25 0.586\n",
      "26 0.334\n",
      "27 0.584\n",
      "28 0.538\n",
      "29 0.424\n",
      "30 0.622\n",
      "31 0.53\n",
      "32 0.472\n",
      "33 0.626\n",
      "34 0.592\n",
      "35 0.572\n",
      "36 0.47\n",
      "37 0.47\n",
      "38 0.65\n",
      "39 0.648\n",
      "\n"
     ]
    }
   ],
   "source": [
    "val_acc = []\n",
    "\n",
    "for count, k in tqdm(enumerate(val_idx)):\n",
    "    file_name = 'E:/crew2_train/validation/training_data-{}.npy'.format(k)\n",
    "    val_data = np.load(file_name)\n",
    "\n",
    "    X = np.array([i[0] for i in val_data])\n",
    "    y = [i[1] for i in val_data]\n",
    "    X = preprocess_input(X) \n",
    "    prediction = model.predict(X)\n",
    "    prediction = np.argmax(np.array(prediction), axis=-1)\n",
    "    val_acc.append(accuracy_score(np.argmax(y, axis=-1), prediction))\n",
    "    print(count, val_acc[count])"
   ]
  },
  {
   "cell_type": "code",
   "execution_count": 25,
   "metadata": {},
   "outputs": [
    {
     "data": {
      "text/plain": [
       "('First model', 0.5449999999999999)"
      ]
     },
     "execution_count": 25,
     "metadata": {},
     "output_type": "execute_result"
    }
   ],
   "source": [
    "\"First model\", np.mean(val_acc)\n"
   ]
  },
  {
   "cell_type": "code",
   "execution_count": 28,
   "metadata": {},
   "outputs": [
    {
     "data": {
      "text/plain": [
       "('Second model', 0.56595)"
      ]
     },
     "execution_count": 28,
     "metadata": {},
     "output_type": "execute_result"
    }
   ],
   "source": [
    "\"Second model\", np.mean(val_acc)"
   ]
  }
 ],
 "metadata": {
  "kernelspec": {
   "display_name": "Python 3",
   "language": "python",
   "name": "python3"
  },
  "language_info": {
   "codemirror_mode": {
    "name": "ipython",
    "version": 3
   },
   "file_extension": ".py",
   "mimetype": "text/x-python",
   "name": "python",
   "nbconvert_exporter": "python",
   "pygments_lexer": "ipython3",
   "version": "3.6.7"
  }
 },
 "nbformat": 4,
 "nbformat_minor": 2
}
